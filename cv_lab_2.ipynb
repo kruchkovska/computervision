{
  "nbformat": 4,
  "nbformat_minor": 0,
  "metadata": {
    "colab": {
      "name": "cv_lab_2.ipynb",
      "provenance": []
    },
    "kernelspec": {
      "name": "python3",
      "display_name": "Python 3"
    },
    "language_info": {
      "name": "python"
    }
  },
  "cells": [
    {
      "cell_type": "code",
      "execution_count": 1,
      "metadata": {
        "colab": {
          "base_uri": "https://localhost:8080/",
          "height": 374
        },
        "id": "GBRheE06TBf2",
        "outputId": "ffdc816c-946a-458d-cd8e-1814ec8244b9"
      },
      "outputs": [
        {
          "output_type": "error",
          "ename": "ModuleNotFoundError",
          "evalue": "ignored",
          "traceback": [
            "\u001b[0;31m---------------------------------------------------------------------------\u001b[0m",
            "\u001b[0;31mModuleNotFoundError\u001b[0m                       Traceback (most recent call last)",
            "\u001b[0;32m<ipython-input-1-b6e4a43b6933>\u001b[0m in \u001b[0;36m<module>\u001b[0;34m()\u001b[0m\n\u001b[1;32m      1\u001b[0m \u001b[0;32mimport\u001b[0m \u001b[0mcv2\u001b[0m\u001b[0;34m\u001b[0m\u001b[0;34m\u001b[0m\u001b[0m\n\u001b[1;32m      2\u001b[0m \u001b[0;32mimport\u001b[0m \u001b[0mnumpy\u001b[0m \u001b[0;32mas\u001b[0m \u001b[0mnp\u001b[0m\u001b[0;34m\u001b[0m\u001b[0;34m\u001b[0m\u001b[0m\n\u001b[0;32m----> 3\u001b[0;31m \u001b[0;32mfrom\u001b[0m \u001b[0mmahotas\u001b[0m\u001b[0;34m.\u001b[0m\u001b[0mfeatures\u001b[0m \u001b[0;32mimport\u001b[0m \u001b[0msurf\u001b[0m\u001b[0;34m\u001b[0m\u001b[0;34m\u001b[0m\u001b[0m\n\u001b[0m\u001b[1;32m      4\u001b[0m \u001b[0;32mfrom\u001b[0m \u001b[0mscipy\u001b[0m\u001b[0;34m.\u001b[0m\u001b[0mspatial\u001b[0m \u001b[0;32mimport\u001b[0m \u001b[0mdistance\u001b[0m\u001b[0;34m\u001b[0m\u001b[0;34m\u001b[0m\u001b[0m\n\u001b[1;32m      5\u001b[0m \u001b[0;32mfrom\u001b[0m \u001b[0mIPython\u001b[0m\u001b[0;34m.\u001b[0m\u001b[0mdisplay\u001b[0m \u001b[0;32mimport\u001b[0m \u001b[0mdisplay\u001b[0m\u001b[0;34m\u001b[0m\u001b[0;34m\u001b[0m\u001b[0m\n",
            "\u001b[0;31mModuleNotFoundError\u001b[0m: No module named 'mahotas'",
            "",
            "\u001b[0;31m---------------------------------------------------------------------------\u001b[0;32m\nNOTE: If your import is failing due to a missing package, you can\nmanually install dependencies using either !pip or !apt.\n\nTo view examples of installing some common dependencies, click the\n\"Open Examples\" button below.\n\u001b[0;31m---------------------------------------------------------------------------\u001b[0m\n"
          ],
          "errorDetails": {
            "actions": [
              {
                "action": "open_url",
                "actionText": "Open Examples",
                "url": "/notebooks/snippets/importing_libraries.ipynb"
              }
            ]
          }
        }
      ],
      "source": [
        "import cv2\n",
        "import numpy as np\n",
        "from mahotas.features import surf\n",
        "from scipy.spatial import distance\n",
        "from IPython.display import display\n",
        "from PIL import Image"
      ]
    },
    {
      "cell_type": "code",
      "source": [
        "low_contrast_im = cv2.imread('image3_l.jpg')\n",
        "high_contrast_im = cv2.imread('image3_h.jpg')"
      ],
      "metadata": {
        "id": "4zzq-85YThsM"
      },
      "execution_count": null,
      "outputs": []
    },
    {
      "cell_type": "code",
      "source": [
        "gray_contrast_im = cv2.cvtColor(high_contrast_im, cv2.COLOR_RGB2GRAY)\n",
        "gray_low_contrast = cv2.cvtColor(low_contrast_im, cv2.COLOR_RGB2GRAY)"
      ],
      "metadata": {
        "id": "am8D-ETuTqpT"
      },
      "execution_count": null,
      "outputs": []
    },
    {
      "cell_type": "code",
      "source": [
        "surf_conrast_im = surf.surf(gray_contrast_im)\n",
        "surf_low_contrast_im = surf.surf(gray_low_contrast)"
      ],
      "metadata": {
        "id": "H5gMOrJ9TrLp"
      },
      "execution_count": null,
      "outputs": []
    },
    {
      "cell_type": "code",
      "source": [
        "def matcher(desc_1, desc_2):\n",
        "    matches = []\n",
        "    for i in range(len(desc_1)):\n",
        "        for j in range(len(desc_2)):\n",
        "            dst = distance.euclidean(desc_1[i].reshape(1, -1), desc_2[j].reshape(1, -1))\n",
        "            if dst < 30:\n",
        "                matches.append(cv2.DMatch(_queryIdx=i, _trainIdx=j, _imgIdx=0,_distance=dst))\n",
        "    return matches"
      ],
      "metadata": {
        "id": "6F8d8YM2UanS"
      },
      "execution_count": null,
      "outputs": []
    },
    {
      "cell_type": "code",
      "source": [
        "res = matcher(surf_conrast_im[:, 6:], surf_low_contrast_im[:, 6:])"
      ],
      "metadata": {
        "id": "qtGvEy_lUcN-"
      },
      "execution_count": null,
      "outputs": []
    },
    {
      "cell_type": "code",
      "source": [
        "def key_points(surf_conrast_im, surf_low_contrast_im):\n",
        "    kp1, kp2 = [], []\n",
        "\n",
        "    for i, j in zip(range(len(surf_conrast_im)), range(len(surf_low_contrast_im))):\n",
        "        y, x, scale, _ ,_ , angle = surf_conrast_im[i][:6]\n",
        "        kp1.append(cv2.KeyPoint(x, y, scale, angle))\n",
        "        y, x, scale, _, _, angle = surf_low_contrast_im[j][:6]\n",
        "        kp2.append(cv2.KeyPoint(x, y, scale, angle))\n",
        "        \n",
        "    return kp1, kp2\n",
        "kp1, kp2 = key_points(surf_conrast_im, surf_low_contrast_im)"
      ],
      "metadata": {
        "id": "55wQc95wUd3F"
      },
      "execution_count": null,
      "outputs": []
    },
    {
      "cell_type": "code",
      "source": [
        "res = sorted(res, key = lambda x:x.distance)"
      ],
      "metadata": {
        "id": "qh_CHB4tUfhN"
      },
      "execution_count": null,
      "outputs": []
    },
    {
      "cell_type": "code",
      "source": [
        "res_im =cv2.drawMatches(gray_contrast_im, kp1, gray_low_contrast, kp2, res[:10], None, flags=cv2.DrawMatchesFlags_NOT_DRAW_SINGLE_POINTS)\n",
        "display(Image.fromarray(res_im))"
      ],
      "metadata": {
        "id": "A-XbVBuNUhBv"
      },
      "execution_count": null,
      "outputs": []
    },
    {
      "cell_type": "code",
      "source": [
        "gray_contrast_im_rotated = gray_contrast_im.copy()\n",
        "num_rows, num_cols = gray_contrast_im_rotated.shape[:2]\n",
        "\n",
        "rotation_matrix = cv2.getRotationMatrix2D((num_cols/2, num_rows/2), 20, 1)\n",
        "gray_contrast_im_rotated = cv2.warpAffine(gray_contrast_im_rotated, rotation_matrix, (num_cols, num_rows))\n"
      ],
      "metadata": {
        "id": "E81g4ph0UhKH"
      },
      "execution_count": null,
      "outputs": []
    },
    {
      "cell_type": "code",
      "source": [
        "surf_contrast_im_rotated = surf.surf(gray_contrast_im_rotated)\n",
        "res2 = matcher(surf_conrast_im[:, 6:], surf_contrast_im_rotated[:, 6:])\n",
        "res2 = sorted(res2, key = lambda x:x.distance)\n",
        "kp1_2, kp2_2 = key_points(surf_conrast_im, surf_contrast_im_rotated)\n",
        "res_im2 =cv2.drawMatches(gray_contrast_im, kp1_2, gray_contrast_im_rotated, kp2_2, res2[:10], None, flags=cv2.DrawMatchesFlags_NOT_DRAW_SINGLE_POINTS)\n",
        "display(Image.fromarray(res_im2))"
      ],
      "metadata": {
        "id": "BjzRnB4QUl-9"
      },
      "execution_count": null,
      "outputs": []
    },
    {
      "cell_type": "code",
      "source": [
        "orb = cv2.ORB_create(100)\n",
        "\n",
        "#Find the keypoints and descriptors with ORB\n",
        "kp_1, des_1 = orb.detectAndCompute(gray_contrast_im, None)\n",
        "kp_2, des_2 = orb.detectAndCompute(gray_contrast_im_rotated, None)\n",
        "\n",
        "bf = cv2.BFMatcher(cv2.NORM_HAMMING, crossCheck=True)\n",
        "#Match descriptors.\n",
        "matches = bf.match(des_1, des_2)\n",
        "#Sort them in the order of their distance.\n",
        "matches = sorted(matches, key = lambda x:x.distance)\n",
        "#Draw first 10 matches.\n",
        "res_3 =cv2.drawMatches(gray_contrast_im, kp_1 , gray_contrast_im_rotated, kp_2, matches[:10], None, flags=cv2.DrawMatchesFlags_NOT_DRAW_SINGLE_POINTS)\n",
        "display(Image.fromarray(res_3))"
      ],
      "metadata": {
        "id": "MP1HpW6fUn29"
      },
      "execution_count": null,
      "outputs": []
    }
  ]
}