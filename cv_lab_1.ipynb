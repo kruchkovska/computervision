{
  "nbformat": 4,
  "nbformat_minor": 0,
  "metadata": {
    "colab": {
      "name": "cv_lab_1.ipynb",
      "provenance": []
    },
    "kernelspec": {
      "name": "python3",
      "display_name": "Python 3"
    },
    "language_info": {
      "name": "python"
    }
  },
  "cells": [
    {
      "cell_type": "code",
      "execution_count": null,
      "metadata": {
        "colab": {
          "base_uri": "https://localhost:8080/"
        },
        "id": "spFfYlg0HLH0",
        "outputId": "614f26d4-413d-403a-ce25-dfc464685788"
      },
      "outputs": [
        {
          "output_type": "execute_result",
          "data": {
            "text/plain": [
              "{'divide': 'ignore', 'invalid': 'ignore', 'over': 'warn', 'under': 'ignore'}"
            ]
          },
          "metadata": {},
          "execution_count": 16
        }
      ],
      "source": [
        "import numpy as np\n",
        "import cv2\n",
        "import matplotlib.pyplot as plt\n",
        "\n",
        "np.seterr(divide='ignore', invalid='ignore')"
      ]
    },
    {
      "cell_type": "code",
      "source": [
        "image1 = cv2.imread('image1.jpg', cv2.IMREAD_GRAYSCALE)\n",
        "image2 = cv2.imread('image2.jpg', cv2.IMREAD_GRAYSCALE)\n",
        "image3_h = cv2.imread('image3_h.jpg', cv2.IMREAD_GRAYSCALE)\n",
        "image3_l = cv2.imread('image3_l.jpg', cv2.IMREAD_GRAYSCALE)"
      ],
      "metadata": {
        "id": "pVTq000vKvvd"
      },
      "execution_count": null,
      "outputs": []
    },
    {
      "cell_type": "markdown",
      "source": [
        "Виконати 2D лінійну фільтрацію зображення з різними значеннями ядра. Провести порівняльний аналіз"
      ],
      "metadata": {
        "id": "jDb9lP-yLj7G"
      }
    },
    {
      "cell_type": "code",
      "source": [
        "def f_2d(image, kernel):\n",
        "    kernel_h, kernel_w = np.shape(kernel)\n",
        "    image = np.pad(image, 1, mode='mean')\n",
        "    \n",
        "    output = np.zeros((image.shape))\n",
        "    \n",
        "    for i in range(im_h - kernel_h):\n",
        "        for j in range(im_w - kernel_w):\n",
        "            i_h, j_w = i + kernel_h, j + kernel_w\n",
        "            output[i, j] = np.sum(image[i:i_h, j:j_w] * kernel, axis=(0, 1))\n",
        "            \n",
        "    output = (output - output.min(axis=0)) / (output.max(axis=0) - output.min(axis=0))\n",
        "    return output * 255"
      ],
      "metadata": {
        "id": "VHP98ooSLkIZ"
      },
      "execution_count": null,
      "outputs": []
    },
    {
      "cell_type": "code",
      "source": [
        "kernel1 = [[-3, -4, -3],[0,0,0],[-3, -4, -3]]\n",
        "kernel2 = [[3, 3, 3], [0,0,0], [-3, -3, -3]]\n",
        "kernel3 = [[1,0,-1], [5,0,-5], [1,0,-1]]"
      ],
      "metadata": {
        "id": "Az0YzD1VTFlf"
      },
      "execution_count": null,
      "outputs": []
    },
    {
      "cell_type": "code",
      "source": [
        "def plot(image):\n",
        "    fig = plt.figure(figsize=(15,15))\n",
        "    ax = fig.add_subplot(1, 4, 1)\n",
        "    imgplot = plt.imshow(image, cmap='gray', vmin=0, vmax=255)\n",
        "    ax.set_title('Gray original')\n",
        "\n",
        "    ax = fig.add_subplot(1, 4, 2)\n",
        "    imgplot = plt.imshow(f_2d(image, kernel1), cmap='gray', vmin=0, vmax=255)\n",
        "    ax.set_title('After applying kernel 1')\n",
        "\n",
        "    ax = fig.add_subplot(1, 4, 3)\n",
        "    imgplot = plt.imshow(f_2d(image, kernel2), cmap='gray', vmin=0, vmax=255)\n",
        "    ax.set_title('After applying kernel 2')\n",
        "\n",
        "    ax = fig.add_subplot(1, 4, 4)\n",
        "    imgplot = plt.imshow(f_2d(image, kernel3), cmap='gray', vmin=0, vmax=255)\n",
        "    ax.set_title('After applying kernel 3')"
      ],
      "metadata": {
        "id": "yk4VECk4MFci"
      },
      "execution_count": null,
      "outputs": []
    },
    {
      "cell_type": "code",
      "source": [
        "plot(image1)"
      ],
      "metadata": {
        "id": "VawXy_4QMIPI"
      },
      "execution_count": null,
      "outputs": []
    },
    {
      "cell_type": "code",
      "source": [
        "plot(image2)"
      ],
      "metadata": {
        "id": "LabSKeOfMbpv"
      },
      "execution_count": null,
      "outputs": []
    },
    {
      "cell_type": "code",
      "source": [
        "plot(image3_h)"
      ],
      "metadata": {
        "id": "zc1j_MrwMhNr"
      },
      "execution_count": null,
      "outputs": []
    },
    {
      "cell_type": "code",
      "source": [
        "plot(image3_l)"
      ],
      "metadata": {
        "id": "ktKgQ18mMjeI"
      },
      "execution_count": null,
      "outputs": []
    }
  ]
}